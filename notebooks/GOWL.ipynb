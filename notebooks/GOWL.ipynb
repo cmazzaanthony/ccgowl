{
 "cells": [
  {
   "cell_type": "markdown",
   "metadata": {},
   "source": [
    "# IMPORTS"
   ]
  },
  {
   "cell_type": "code",
   "execution_count": 3,
   "metadata": {},
   "outputs": [],
   "source": [
    "import numpy as np\n",
    "from src.models.gowl import GOWLModel\n",
    "\n",
    "from src.data.make_synthetic_data import generate_theta_star_gowl"
   ]
  },
  {
   "cell_type": "markdown",
   "metadata": {},
   "source": [
    "# The Graphical OWL Estimator for Precision Matrix Estimation\n",
    "\n",
    "We define the Graphical Order Weighted $\\ell_1$ (GOWL) estimator to be the solution to the following constrained optimization problem:\n",
    "\n",
    "$$\\min_{\\Theta \\succ 0} - \\log \\text{det } \\Theta + \\text{tr}(S \\Theta) + \\Omega_{\\text{OWL}} (\\Theta)$$\n",
    "\n",
    "where \n",
    "\n",
    "$$\\Omega_{\\text{OWL}} (\\Theta) = \\lambda^T |\\text{vechs}(\\Theta)|_{\\downarrow} = \\sum_{i=1}^K \\lambda_i |\\text{vechs}(\\Theta)|_{[i]}$$\n",
    "\n",
    "Here $\\Theta \\in \\mathbb{R}^{p \\times p}$, $\\text{vechs}(\\Theta)_{[i]}$ is the $i^{th}$ largest off-diagonal component in magnitude of $\\Theta$, $K = (p^2 - p)/2$, and $\\lambda_1 \\ge \\lambda_2 \\ge \\cdots \\ge \\lambda_p \\ge 0$. The goal of this estimator is to identify correlated groups within the precision matrix estimator $\\hat{\\Theta}$."
   ]
  },
  {
   "cell_type": "markdown",
   "metadata": {},
   "source": [
    "# Algorithm\n",
    "We use a proximal method referred to as G-ISTA in the literature to compute our estimate. The algorithm is defined below:"
   ]
  },
  {
   "cell_type": "markdown",
   "metadata": {},
   "source": [
    "# Simple Example\n",
    "\n",
    "We design our first example for a very low $p$ and specify one group of size two. As is custom in the literature we also standardize our design matrix $X$."
   ]
  },
  {
   "cell_type": "code",
   "execution_count": 4,
   "metadata": {},
   "outputs": [],
   "source": [
    "p = 10\n",
    "n = 100\n",
    "n_blocks = 1\n",
    "theta_star, blocks, theta_blocks = generate_theta_star_gowl(p=p,\n",
    "                                                            alpha=0.5,\n",
    "                                                            noise=0.1,\n",
    "                                                            n_blocks=n_blocks,\n",
    "                                                            block_min_size=2,\n",
    "                                                            block_max_size=6)"
   ]
  }
 ],
 "metadata": {
  "kernelspec": {
   "display_name": "Python 3",
   "language": "python",
   "name": "python3"
  },
  "language_info": {
   "codemirror_mode": {
    "name": "ipython",
    "version": 3
   },
   "file_extension": ".py",
   "mimetype": "text/x-python",
   "name": "python",
   "nbconvert_exporter": "python",
   "pygments_lexer": "ipython3",
   "version": "3.7.3"
  }
 },
 "nbformat": 4,
 "nbformat_minor": 2
}
